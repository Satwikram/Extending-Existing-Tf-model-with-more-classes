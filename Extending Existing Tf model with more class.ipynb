{
  "nbformat": 4,
  "nbformat_minor": 0,
  "metadata": {
    "colab": {
      "name": "Extending Existing Tf model with more class.ipynb",
      "provenance": [],
      "collapsed_sections": [],
      "authorship_tag": "ABX9TyNBHpUzVn1IuzpBYcKNbdxw",
      "include_colab_link": true
    },
    "kernelspec": {
      "name": "python3",
      "display_name": "Python 3"
    },
    "accelerator": "TPU",
    "widgets": {
      "application/vnd.jupyter.widget-state+json": {
        "ab23e9e74cfb4df29eefc3085663cbab": {
          "model_module": "@jupyter-widgets/controls",
          "model_name": "HBoxModel",
          "state": {
            "_view_name": "HBoxView",
            "_dom_classes": [],
            "_model_name": "HBoxModel",
            "_view_module": "@jupyter-widgets/controls",
            "_model_module_version": "1.5.0",
            "_view_count": null,
            "_view_module_version": "1.5.0",
            "box_style": "",
            "layout": "IPY_MODEL_801edc7ce107475d910304109c26db8a",
            "_model_module": "@jupyter-widgets/controls",
            "children": [
              "IPY_MODEL_3552f4f6fcec478a952c9f23f27144d7",
              "IPY_MODEL_097759c8756d4f28876abd8cfc41bc50"
            ]
          }
        },
        "801edc7ce107475d910304109c26db8a": {
          "model_module": "@jupyter-widgets/base",
          "model_name": "LayoutModel",
          "state": {
            "_view_name": "LayoutView",
            "grid_template_rows": null,
            "right": null,
            "justify_content": null,
            "_view_module": "@jupyter-widgets/base",
            "overflow": null,
            "_model_module_version": "1.2.0",
            "_view_count": null,
            "flex_flow": null,
            "width": null,
            "min_width": null,
            "border": null,
            "align_items": null,
            "bottom": null,
            "_model_module": "@jupyter-widgets/base",
            "top": null,
            "grid_column": null,
            "overflow_y": null,
            "overflow_x": null,
            "grid_auto_flow": null,
            "grid_area": null,
            "grid_template_columns": null,
            "flex": null,
            "_model_name": "LayoutModel",
            "justify_items": null,
            "grid_row": null,
            "max_height": null,
            "align_content": null,
            "visibility": null,
            "align_self": null,
            "height": null,
            "min_height": null,
            "padding": null,
            "grid_auto_rows": null,
            "grid_gap": null,
            "max_width": null,
            "order": null,
            "_view_module_version": "1.2.0",
            "grid_template_areas": null,
            "object_position": null,
            "object_fit": null,
            "grid_auto_columns": null,
            "margin": null,
            "display": null,
            "left": null
          }
        },
        "3552f4f6fcec478a952c9f23f27144d7": {
          "model_module": "@jupyter-widgets/controls",
          "model_name": "FloatProgressModel",
          "state": {
            "_view_name": "ProgressView",
            "style": "IPY_MODEL_26a8e49551bd4d5191c30a6ca36b34f1",
            "_dom_classes": [],
            "description": "  0%",
            "_model_name": "FloatProgressModel",
            "bar_style": "danger",
            "max": 4863,
            "_view_module": "@jupyter-widgets/controls",
            "_model_module_version": "1.5.0",
            "value": 0,
            "_view_count": null,
            "_view_module_version": "1.5.0",
            "orientation": "horizontal",
            "min": 0,
            "description_tooltip": null,
            "_model_module": "@jupyter-widgets/controls",
            "layout": "IPY_MODEL_2507919b087d4a1290bc014511f9ad6a"
          }
        },
        "097759c8756d4f28876abd8cfc41bc50": {
          "model_module": "@jupyter-widgets/controls",
          "model_name": "HTMLModel",
          "state": {
            "_view_name": "HTMLView",
            "style": "IPY_MODEL_5dc7fad77ca547db8d682f6405e63b84",
            "_dom_classes": [],
            "description": "",
            "_model_name": "HTMLModel",
            "placeholder": "​",
            "_view_module": "@jupyter-widgets/controls",
            "_model_module_version": "1.5.0",
            "value": " 0/4863 [00:05&lt;?, ?it/s]",
            "_view_count": null,
            "_view_module_version": "1.5.0",
            "description_tooltip": null,
            "_model_module": "@jupyter-widgets/controls",
            "layout": "IPY_MODEL_1a0a26903c8a447dbf729b9ab4a2d8dc"
          }
        },
        "26a8e49551bd4d5191c30a6ca36b34f1": {
          "model_module": "@jupyter-widgets/controls",
          "model_name": "ProgressStyleModel",
          "state": {
            "_view_name": "StyleView",
            "_model_name": "ProgressStyleModel",
            "description_width": "initial",
            "_view_module": "@jupyter-widgets/base",
            "_model_module_version": "1.5.0",
            "_view_count": null,
            "_view_module_version": "1.2.0",
            "bar_color": null,
            "_model_module": "@jupyter-widgets/controls"
          }
        },
        "2507919b087d4a1290bc014511f9ad6a": {
          "model_module": "@jupyter-widgets/base",
          "model_name": "LayoutModel",
          "state": {
            "_view_name": "LayoutView",
            "grid_template_rows": null,
            "right": null,
            "justify_content": null,
            "_view_module": "@jupyter-widgets/base",
            "overflow": null,
            "_model_module_version": "1.2.0",
            "_view_count": null,
            "flex_flow": null,
            "width": null,
            "min_width": null,
            "border": null,
            "align_items": null,
            "bottom": null,
            "_model_module": "@jupyter-widgets/base",
            "top": null,
            "grid_column": null,
            "overflow_y": null,
            "overflow_x": null,
            "grid_auto_flow": null,
            "grid_area": null,
            "grid_template_columns": null,
            "flex": null,
            "_model_name": "LayoutModel",
            "justify_items": null,
            "grid_row": null,
            "max_height": null,
            "align_content": null,
            "visibility": null,
            "align_self": null,
            "height": null,
            "min_height": null,
            "padding": null,
            "grid_auto_rows": null,
            "grid_gap": null,
            "max_width": null,
            "order": null,
            "_view_module_version": "1.2.0",
            "grid_template_areas": null,
            "object_position": null,
            "object_fit": null,
            "grid_auto_columns": null,
            "margin": null,
            "display": null,
            "left": null
          }
        },
        "5dc7fad77ca547db8d682f6405e63b84": {
          "model_module": "@jupyter-widgets/controls",
          "model_name": "DescriptionStyleModel",
          "state": {
            "_view_name": "StyleView",
            "_model_name": "DescriptionStyleModel",
            "description_width": "",
            "_view_module": "@jupyter-widgets/base",
            "_model_module_version": "1.5.0",
            "_view_count": null,
            "_view_module_version": "1.2.0",
            "_model_module": "@jupyter-widgets/controls"
          }
        },
        "1a0a26903c8a447dbf729b9ab4a2d8dc": {
          "model_module": "@jupyter-widgets/base",
          "model_name": "LayoutModel",
          "state": {
            "_view_name": "LayoutView",
            "grid_template_rows": null,
            "right": null,
            "justify_content": null,
            "_view_module": "@jupyter-widgets/base",
            "overflow": null,
            "_model_module_version": "1.2.0",
            "_view_count": null,
            "flex_flow": null,
            "width": null,
            "min_width": null,
            "border": null,
            "align_items": null,
            "bottom": null,
            "_model_module": "@jupyter-widgets/base",
            "top": null,
            "grid_column": null,
            "overflow_y": null,
            "overflow_x": null,
            "grid_auto_flow": null,
            "grid_area": null,
            "grid_template_columns": null,
            "flex": null,
            "_model_name": "LayoutModel",
            "justify_items": null,
            "grid_row": null,
            "max_height": null,
            "align_content": null,
            "visibility": null,
            "align_self": null,
            "height": null,
            "min_height": null,
            "padding": null,
            "grid_auto_rows": null,
            "grid_gap": null,
            "max_width": null,
            "order": null,
            "_view_module_version": "1.2.0",
            "grid_template_areas": null,
            "object_position": null,
            "object_fit": null,
            "grid_auto_columns": null,
            "margin": null,
            "display": null,
            "left": null
          }
        }
      }
    }
  },
  "cells": [
    {
      "cell_type": "markdown",
      "metadata": {
        "id": "view-in-github",
        "colab_type": "text"
      },
      "source": [
        "<a href=\"https://colab.research.google.com/github/Satwikram/Extending-Existing-Tf-model-with-more-classes/blob/main/Extending%20Existing%20Tf%20model%20with%20more%20class.ipynb\" target=\"_parent\"><img src=\"https://colab.research.google.com/assets/colab-badge.svg\" alt=\"Open In Colab\"/></a>"
      ]
    },
    {
      "cell_type": "markdown",
      "metadata": {
        "id": "vwGn0z6JWF2E"
      },
      "source": [
        "### Author: Satwik Ram K\n",
        "### Adding Classes to existing Tensorflow model\n"
      ]
    },
    {
      "cell_type": "markdown",
      "metadata": {
        "id": "cz36B4eHWVnc"
      },
      "source": [
        "### Connecting to Kaggle"
      ]
    },
    {
      "cell_type": "code",
      "metadata": {
        "id": "IUwHxTD7WUW_",
        "outputId": "e9f39173-a263-4029-d910-1042978f5db7",
        "colab": {
          "resources": {
            "http://localhost:8080/nbextensions/google.colab/files.js": {
              "data": "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",
              "ok": true,
              "headers": [
                [
                  "content-type",
                  "application/javascript"
                ]
              ],
              "status": 200,
              "status_text": ""
            }
          },
          "base_uri": "https://localhost:8080/",
          "height": 72
        }
      },
      "source": [
        "from google.colab import files\n",
        "\n",
        "files.upload()\n",
        "\n",
        "\n",
        "! mkdir ~/.kaggle\n",
        "\n",
        "\n",
        "! cp kaggle.json ~/.kaggle/\n",
        "\n",
        "! chmod 600 ~/.kaggle/kaggle.json"
      ],
      "execution_count": 1,
      "outputs": [
        {
          "output_type": "display_data",
          "data": {
            "text/html": [
              "\n",
              "     <input type=\"file\" id=\"files-790827c1-6181-4466-884b-0a0429f9cb55\" name=\"files[]\" multiple disabled\n",
              "        style=\"border:none\" />\n",
              "     <output id=\"result-790827c1-6181-4466-884b-0a0429f9cb55\">\n",
              "      Upload widget is only available when the cell has been executed in the\n",
              "      current browser session. Please rerun this cell to enable.\n",
              "      </output>\n",
              "      <script src=\"/nbextensions/google.colab/files.js\"></script> "
            ],
            "text/plain": [
              "<IPython.core.display.HTML object>"
            ]
          },
          "metadata": {
            "tags": []
          }
        },
        {
          "output_type": "stream",
          "text": [
            "Saving kaggle.json to kaggle.json\n"
          ],
          "name": "stdout"
        }
      ]
    },
    {
      "cell_type": "code",
      "metadata": {
        "id": "tXyEjikUWft3",
        "outputId": "21949350-e01e-456c-fc44-57a48af05d53",
        "colab": {
          "base_uri": "https://localhost:8080/",
          "height": 68
        }
      },
      "source": [
        "! kaggle datasets download -d alessiocorrado99/animals10"
      ],
      "execution_count": 2,
      "outputs": [
        {
          "output_type": "stream",
          "text": [
            "Downloading animals10.zip to /content\n",
            " 98% 574M/586M [00:07<00:00, 151MB/s]\n",
            "100% 586M/586M [00:07<00:00, 83.0MB/s]\n"
          ],
          "name": "stdout"
        }
      ]
    },
    {
      "cell_type": "code",
      "metadata": {
        "id": "hni4TMj4WrEi"
      },
      "source": [
        "! unzip /content/animals10.zip"
      ],
      "execution_count": null,
      "outputs": []
    },
    {
      "cell_type": "markdown",
      "metadata": {
        "id": "QI7_8W0nYyva"
      },
      "source": [
        "### Importing Librarries"
      ]
    },
    {
      "cell_type": "code",
      "metadata": {
        "id": "6X6pVUIHW2Cc"
      },
      "source": [
        "import numpy as np #Linear Algebra\n",
        "import matplotlib.pyplot as plt\n",
        "import cv2\n",
        "import os\n",
        "import pickle\n",
        "%matplotlib inline\n",
        "import pandas as pd\n",
        "from tqdm import tqdm_notebook as tqdm"
      ],
      "execution_count": 103,
      "outputs": []
    },
    {
      "cell_type": "code",
      "metadata": {
        "id": "SMDG57rtZ7ki"
      },
      "source": [
        "img_size = 100 #Setting all the images to 100 pixels"
      ],
      "execution_count": 104,
      "outputs": []
    },
    {
      "cell_type": "markdown",
      "metadata": {
        "id": "8nyZACIOaGr4"
      },
      "source": [
        "### Defining the function to get data"
      ]
    },
    {
      "cell_type": "code",
      "metadata": {
        "id": "lEnGHy8Ea6ca"
      },
      "source": [
        "classes = []"
      ],
      "execution_count": 105,
      "outputs": []
    },
    {
      "cell_type": "code",
      "metadata": {
        "id": "ODrEMQyZaDaT"
      },
      "source": [
        "def get_data(data_dir):\n",
        "  data = []\n",
        "  count = 0\n",
        "  print(os.path.basename(data_dir))\n",
        "  folder = os.path.basename(data_dir)\n",
        "  classes.append(folder)\n",
        "  print(folder)\n",
        "  with tqdm(total = len(os.listdir(data_dir))) as pbar:\n",
        "    for img in os.listdir(data_dir):\n",
        "      try:\n",
        "        count += 1\n",
        "        image_array = cv2.imread(os.path.join(data_dir, img), cv2.IMREAD_COLOR)\n",
        "        resized_array = cv2.resize(image_array, (img_size, img_size))\n",
        "        data.append([resized_array, folder])\n",
        "\n",
        "      except Exception as e:\n",
        "        print(e)\n",
        "\n",
        "  print(\"Collected\",count,\"no of images\")\n",
        "  return np.array(data)"
      ],
      "execution_count": 106,
      "outputs": []
    },
    {
      "cell_type": "code",
      "metadata": {
        "id": "72lrUo9zdQlZ",
        "outputId": "a4736b8b-2230-424b-e163-cba6b83f51ec",
        "colab": {
          "base_uri": "https://localhost:8080/",
          "height": 188,
          "referenced_widgets": [
            "ab23e9e74cfb4df29eefc3085663cbab",
            "801edc7ce107475d910304109c26db8a",
            "3552f4f6fcec478a952c9f23f27144d7",
            "097759c8756d4f28876abd8cfc41bc50",
            "26a8e49551bd4d5191c30a6ca36b34f1",
            "2507919b087d4a1290bc014511f9ad6a",
            "5dc7fad77ca547db8d682f6405e63b84",
            "1a0a26903c8a447dbf729b9ab4a2d8dc"
          ]
        }
      },
      "source": [
        "data = get_data('/content/raw-img/cane')"
      ],
      "execution_count": 107,
      "outputs": [
        {
          "output_type": "stream",
          "text": [
            "cane\n",
            "cane\n"
          ],
          "name": "stdout"
        },
        {
          "output_type": "stream",
          "text": [
            "/usr/local/lib/python3.6/dist-packages/ipykernel_launcher.py:8: TqdmDeprecationWarning: This function will be removed in tqdm==5.0.0\n",
            "Please use `tqdm.notebook.tqdm` instead of `tqdm.tqdm_notebook`\n",
            "  \n"
          ],
          "name": "stderr"
        },
        {
          "output_type": "display_data",
          "data": {
            "application/vnd.jupyter.widget-view+json": {
              "model_id": "ab23e9e74cfb4df29eefc3085663cbab",
              "version_minor": 0,
              "version_major": 2
            },
            "text/plain": [
              "HBox(children=(FloatProgress(value=0.0, max=4863.0), HTML(value='')))"
            ]
          },
          "metadata": {
            "tags": []
          }
        },
        {
          "output_type": "stream",
          "text": [
            "\n",
            "Collected 4863 no of images\n"
          ],
          "name": "stdout"
        }
      ]
    },
    {
      "cell_type": "code",
      "metadata": {
        "id": "lfGhgYJUdVqr",
        "outputId": "09d6e2e1-c1b6-4e7d-8b1c-7f5b85681acd",
        "colab": {
          "base_uri": "https://localhost:8080/",
          "height": 34
        }
      },
      "source": [
        "classes"
      ],
      "execution_count": 83,
      "outputs": [
        {
          "output_type": "execute_result",
          "data": {
            "text/plain": [
              "['cane']"
            ]
          },
          "metadata": {
            "tags": []
          },
          "execution_count": 83
        }
      ]
    },
    {
      "cell_type": "code",
      "metadata": {
        "id": "0e8mpl6EkLpz",
        "outputId": "00a75911-c5a1-4636-9ee6-2e50d580de60",
        "colab": {
          "base_uri": "https://localhost:8080/",
          "height": 298
        }
      },
      "source": [
        "plt.imshow(data[2][0])\n",
        "plt.title(data[2][1])"
      ],
      "execution_count": 68,
      "outputs": [
        {
          "output_type": "execute_result",
          "data": {
            "text/plain": [
              "Text(0.5, 1.0, 'cane')"
            ]
          },
          "metadata": {
            "tags": []
          },
          "execution_count": 68
        },
        {
          "output_type": "display_data",
          "data": {
            "image/png": "[encoded data removed]",
            "text/plain": [
              "<Figure size 432x288 with 1 Axes>"
            ]
          },
          "metadata": {
            "tags": [],
            "needs_background": "light"
          }
        }
      ]
    },
    {
      "cell_type": "code",
      "metadata": {
        "id": "mtNVDICwnBcr",
        "outputId": "4553908b-2d1f-4472-ae52-71d9e4607160",
        "colab": {
          "base_uri": "https://localhost:8080/",
          "height": 68
        }
      },
      "source": [
        "data2 = get_data('/content/raw-img/cavallo')"
      ],
      "execution_count": 73,
      "outputs": [
        {
          "output_type": "stream",
          "text": [
            "cavallo\n",
            "cavallo\n",
            "Collected 2623 no of images\n"
          ],
          "name": "stdout"
        }
      ]
    },
    {
      "cell_type": "code",
      "metadata": {
        "id": "XTCDRw51o_6t",
        "outputId": "814ad3ef-d7d5-4a7d-978e-b2f13696a38c",
        "colab": {
          "base_uri": "https://localhost:8080/",
          "height": 1000
        }
      },
      "source": [
        "data2"
      ],
      "execution_count": 74,
      "outputs": [
        {
          "output_type": "execute_result",
          "data": {
            "text/plain": [
              "array([[array([[[253, 253, 253],\n",
              "        [253, 253, 253],\n",
              "        [253, 253, 253],\n",
              "        ...,\n",
              "        [253, 253, 253],\n",
              "        [253, 253, 253],\n",
              "        [253, 253, 253]],\n",
              "\n",
              "       [[253, 253, 253],\n",
              "        [253, 253, 253],\n",
              "        [253, 253, 253],\n",
              "        ...,\n",
              "        [253, 253, 253],\n",
              "        [253, 253, 253],\n",
              "        [253, 253, 253]],\n",
              "\n",
              "       [[253, 253, 253],\n",
              "        [253, 253, 253],\n",
              "        [253, 253, 253],\n",
              "        ...,\n",
              "        [253, 253, 253],\n",
              "        [253, 253, 253],\n",
              "        [253, 253, 253]],\n",
              "\n",
              "       ...,\n",
              "\n",
              "       [[253, 253, 253],\n",
              "        [253, 253, 253],\n",
              "        [253, 253, 253],\n",
              "        ...,\n",
              "        [ 61,  67,  74],\n",
              "        [ 73,  79,  86],\n",
              "        [ 79,  84,  92]],\n",
              "\n",
              "       [[255, 255, 255],\n",
              "        [255, 255, 255],\n",
              "        [255, 255, 255],\n",
              "        ...,\n",
              "        [ 44,  50,  57],\n",
              "        [ 61,  67,  74],\n",
              "        [ 61,  66,  73]],\n",
              "\n",
              "       [[253, 253, 253],\n",
              "        [253, 253, 253],\n",
              "        [253, 253, 253],\n",
              "        ...,\n",
              "        [ 45,  51,  58],\n",
              "        [ 51,  57,  64],\n",
              "        [ 48,  56,  63]]], dtype=uint8),\n",
              "        'cavallo'],\n",
              "       [array([[[238, 233, 232],\n",
              "        [253, 248, 247],\n",
              "        [255, 251, 250],\n",
              "        ...,\n",
              "        [243, 238, 240],\n",
              "        [240, 237, 239],\n",
              "        [241, 238, 240]],\n",
              "\n",
              "       [[239, 234, 233],\n",
              "        [252, 247, 246],\n",
              "        [253, 248, 247],\n",
              "        ...,\n",
              "        [236, 235, 239],\n",
              "        [237, 236, 240],\n",
              "        [237, 236, 240]],\n",
              "\n",
              "       [[241, 236, 235],\n",
              "        [252, 247, 246],\n",
              "        [252, 247, 246],\n",
              "        ...,\n",
              "        [240, 245, 248],\n",
              "        [242, 243, 247],\n",
              "        [240, 241, 245]],\n",
              "\n",
              "       ...,\n",
              "\n",
              "       [[ 67, 121, 154],\n",
              "        [ 88, 140, 180],\n",
              "        [ 53, 104, 147],\n",
              "        ...,\n",
              "        [ 81,  97, 113],\n",
              "        [ 25,  32,  51],\n",
              "        [148, 152, 163]],\n",
              "\n",
              "       [[ 93, 140, 171],\n",
              "        [ 57, 107, 143],\n",
              "        [ 39,  91, 132],\n",
              "        ...,\n",
              "        [ 74,  94, 111],\n",
              "        [ 74,  85, 105],\n",
              "        [135, 141, 152]],\n",
              "\n",
              "       [[ 85, 126, 151],\n",
              "        [ 36,  82, 114],\n",
              "        [ 59, 112, 149],\n",
              "        ...,\n",
              "        [ 32,  52,  69],\n",
              "        [ 70,  84, 102],\n",
              "        [138, 144, 155]]], dtype=uint8),\n",
              "        'cavallo'],\n",
              "       [array([[[220, 157,  96],\n",
              "        [218, 155,  94],\n",
              "        [217, 154,  93],\n",
              "        ...,\n",
              "        [219, 158, 102],\n",
              "        [219, 158, 102],\n",
              "        [222, 161, 105]],\n",
              "\n",
              "       [[218, 155,  94],\n",
              "        [217, 154,  93],\n",
              "        [215, 152,  91],\n",
              "        ...,\n",
              "        [218, 157, 101],\n",
              "        [218, 157, 101],\n",
              "        [220, 159, 103]],\n",
              "\n",
              "       [[218, 156,  96],\n",
              "        [217, 155,  95],\n",
              "        [215, 153,  93],\n",
              "        ...,\n",
              "        [219, 158, 102],\n",
              "        [219, 158, 102],\n",
              "        [222, 161, 105]],\n",
              "\n",
              "       ...,\n",
              "\n",
              "       [[ 50, 100,  96],\n",
              "        [ 36,  83,  81],\n",
              "        [ 80, 123, 126],\n",
              "        ...,\n",
              "        [ 70, 106, 113],\n",
              "        [ 54,  90,  95],\n",
              "        [ 80, 117, 120]],\n",
              "\n",
              "       [[ 77, 127, 123],\n",
              "        [ 74, 121, 119],\n",
              "        [ 56,  99, 102],\n",
              "        ...,\n",
              "        [ 61,  95, 109],\n",
              "        [ 61,  95, 107],\n",
              "        [ 77, 112, 121]],\n",
              "\n",
              "       [[ 74, 124, 120],\n",
              "        [ 69, 116, 114],\n",
              "        [100, 143, 146],\n",
              "        ...,\n",
              "        [ 76, 106, 125],\n",
              "        [ 64,  94, 112],\n",
              "        [ 74, 105, 120]]], dtype=uint8),\n",
              "        'cavallo'],\n",
              "       ...,\n",
              "       [array([[[253, 253, 253],\n",
              "        [253, 253, 253],\n",
              "        [253, 253, 253],\n",
              "        ...,\n",
              "        [174, 199, 195],\n",
              "        [196, 217, 217],\n",
              "        [170, 190, 190]],\n",
              "\n",
              "       [[252, 252, 252],\n",
              "        [252, 252, 252],\n",
              "        [252, 252, 252],\n",
              "        ...,\n",
              "        [156, 185, 191],\n",
              "        [161, 183, 195],\n",
              "        [142, 163, 171]],\n",
              "\n",
              "       [[254, 254, 254],\n",
              "        [254, 254, 254],\n",
              "        [254, 254, 254],\n",
              "        ...,\n",
              "        [144, 176, 184],\n",
              "        [156, 185, 197],\n",
              "        [176, 204, 213]],\n",
              "\n",
              "       ...,\n",
              "\n",
              "       [[ 86, 147, 102],\n",
              "        [ 73, 143,  97],\n",
              "        [ 68, 142,  99],\n",
              "        ...,\n",
              "        [100, 158, 133],\n",
              "        [119, 176, 151],\n",
              "        [185, 239, 214]],\n",
              "\n",
              "       [[ 94, 161, 115],\n",
              "        [108, 186, 139],\n",
              "        [ 74, 157, 113],\n",
              "        ...,\n",
              "        [123, 179, 156],\n",
              "        [156, 209, 186],\n",
              "        [147, 195, 173]],\n",
              "\n",
              "       [[120, 173, 144],\n",
              "        [139, 195, 166],\n",
              "        [134, 191, 162],\n",
              "        ...,\n",
              "        [168, 207, 191],\n",
              "        [171, 212, 195],\n",
              "        [175, 214, 197]]], dtype=uint8),\n",
              "        'cavallo'],\n",
              "       [array([[[ 32,  48,  31],\n",
              "        [ 27,  42,  28],\n",
              "        [ 21,  35,  23],\n",
              "        ...,\n",
              "        [ 54,  69,  57],\n",
              "        [ 62,  76,  64],\n",
              "        [ 61,  75,  63]],\n",
              "\n",
              "       [[ 26,  41,  27],\n",
              "        [ 25,  38,  26],\n",
              "        [ 24,  38,  26],\n",
              "        ...,\n",
              "        [ 60,  74,  63],\n",
              "        [ 62,  76,  65],\n",
              "        [ 60,  74,  63]],\n",
              "\n",
              "       [[ 20,  35,  21],\n",
              "        [ 25,  40,  28],\n",
              "        [ 19,  33,  22],\n",
              "        ...,\n",
              "        [ 63,  77,  66],\n",
              "        [ 48,  62,  51],\n",
              "        [ 60,  74,  63]],\n",
              "\n",
              "       ...,\n",
              "\n",
              "       [[114, 164, 206],\n",
              "        [113, 163, 205],\n",
              "        [112, 162, 204],\n",
              "        ...,\n",
              "        [139, 200, 240],\n",
              "        [146, 207, 247],\n",
              "        [144, 205, 245]],\n",
              "\n",
              "       [[117, 165, 207],\n",
              "        [112, 160, 202],\n",
              "        [102, 150, 192],\n",
              "        ...,\n",
              "        [147, 208, 248],\n",
              "        [147, 208, 248],\n",
              "        [149, 210, 250]],\n",
              "\n",
              "       [[105, 153, 195],\n",
              "        [110, 158, 200],\n",
              "        [105, 153, 195],\n",
              "        ...,\n",
              "        [149, 210, 250],\n",
              "        [150, 211, 251],\n",
              "        [140, 201, 241]]], dtype=uint8),\n",
              "        'cavallo'],\n",
              "       [array([[[245, 245, 245],\n",
              "        [245, 245, 245],\n",
              "        [245, 245, 245],\n",
              "        ...,\n",
              "        [167, 183, 179],\n",
              "        [109, 126, 123],\n",
              "        [176, 191, 190]],\n",
              "\n",
              "       [[243, 243, 243],\n",
              "        [243, 243, 243],\n",
              "        [243, 243, 243],\n",
              "        ...,\n",
              "        [125, 146, 141],\n",
              "        [128, 142, 140],\n",
              "        [180, 186, 187]],\n",
              "\n",
              "       [[242, 242, 242],\n",
              "        [242, 242, 242],\n",
              "        [242, 242, 242],\n",
              "        ...,\n",
              "        [123, 150, 144],\n",
              "        [119, 132, 130],\n",
              "        [223, 221, 223]],\n",
              "\n",
              "       ...,\n",
              "\n",
              "       [[151, 215, 203],\n",
              "        [125, 189, 177],\n",
              "        [141, 205, 193],\n",
              "        ...,\n",
              "        [146, 206, 198],\n",
              "        [152, 211, 203],\n",
              "        [158, 215, 207]],\n",
              "\n",
              "       [[141, 205, 193],\n",
              "        [147, 211, 199],\n",
              "        [131, 194, 182],\n",
              "        ...,\n",
              "        [137, 197, 188],\n",
              "        [157, 216, 207],\n",
              "        [159, 216, 209]],\n",
              "\n",
              "       [[161, 227, 215],\n",
              "        [148, 209, 197],\n",
              "        [157, 214, 203],\n",
              "        ...,\n",
              "        [151, 211, 205],\n",
              "        [160, 212, 208],\n",
              "        [155, 207, 205]]], dtype=uint8),\n",
              "        'cavallo']], dtype=object)"
            ]
          },
          "metadata": {
            "tags": []
          },
          "execution_count": 74
        }
      ]
    },
    {
      "cell_type": "code",
      "metadata": {
        "id": "uGYzNX6LpA6a"
      },
      "source": [
        ""
      ],
      "execution_count": null,
      "outputs": []
    }
  ]
}